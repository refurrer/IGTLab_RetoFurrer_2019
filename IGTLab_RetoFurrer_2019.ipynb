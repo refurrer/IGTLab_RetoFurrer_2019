{
 "cells": [
  {
   "cell_type": "code",
   "execution_count": 1,
   "metadata": {},
   "outputs": [],
   "source": [
    "#!/usr/bin/env python3\n",
    "# -*- coding: utf-8 -*-"
   ]
  },
  {
   "cell_type": "markdown",
   "metadata": {},
   "source": [
    "# Topology analysis of polymer tube sections using micro-computed tomography images\n",
    "## Image Guided Therapy Lab 2019 (02.09.2019 - 13.09.2019)\n",
    "__Author__:             Reto Furrer<br/>\n",
    "__Date created__:       02.09.2019<br/>\n",
    "__Date last modified__: 06.09.2019<br/>\n",
    "__Python Version__:     3.6<br/>"
   ]
  },
  {
   "cell_type": "markdown",
   "metadata": {},
   "source": [
    "### Introduction\n",
    "This file comes in conjunction with the Lab report `IGTLab_RetoFurrer_rep.pdf`. Coronary artery disease (CAD) is prevalent in the worldwide elderly population. In the United States, 15.5 million people (year 2016) have coronary artery diseases [1]. It is a significant cause of mortality in developed countries. However, the mortality due to CAD has gradually declined over the last few decades. Among other reasons, the reduction is caused by the timely percutaneous coronary intervention (PCI) with balloon catheters [2]. Heavily resistant coronary lesions remain a challenge in interventional cardiology [3, 4]. The inability to fully dilate a lesion can lead to adverse effects, e.g. restenosis [5]. For a successful dilatation of a resistant lesion a high force must be applied to the vessel wall [6]. To exert high forces, the rated burst pressure (RBP) of the device must be high [7]. The cardiovascular system consists of very thin structures [8]. Therefore, the crossing profile of the balloon catheter, i.e. the biggest diameter of the catheter, must be as small as possible. The smaller the crossing profile, the better peripheral coronary arteries can be reached. Designing a balloon catheter with a high pressure resistance within the size limitations, e.g. small crossing profile, is challenging. It is crucial to understand the thin structures and the topology of the polymer materials of a percutaneous transluminal coronary angioplasty (PTCA) catheter to overcome the challenges [9]. The catheter shaft, which is a polymer tube, is beside the balloon, especially crucial for a high RBP [10]. A rupture of the catheter shaft may lead to the inability to deflate the ballon [11].\n",
    "\n",
    "The standard procedure to quantify the topology of polymer tubes is to measure the inner- and outer diameter. The outer diameter is measured with a micrometer or a two-axis laser. The inner diameter is measured with precision mandrels. The current practice can only be applied on a short endsection of the tube. Positions in the middle of the tube cannot be measured, making it difficult to quantify the topology along the tube. The topology may be assessed by a laser-ultrasonic method, which measures the wall thickness along a seamless tube at one angle of that tube [12]. The method is used in tubes with wall thicknesses of about 30 mm and high tolerances [13]. Medical images, e.g. computed tomography are used in the medical field to measure airways wall thicknesses [14, 15, 16, 17]. Micro-computed tomography (μCT) may be used to measure the topology of polymer tubes used in PTCA catheters as well.\n",
    "\n",
    "The aim of this work is to quantitatively analyse the topology of polymer tube sections based on the outer- and inner diameter along the catheter shaft tube axis. We hypothesize that the shaft topology of a PTCA catheter can be quantified accurately by using μCT images. High resolution μCT images from catheter shaft tubes are theoretically sufficient to analyse their topology. Noise present in the raw images and the image processing algorithm itself, e.g. deviation of edge detection, may introduce some inaccuracies. However, to control the accuracy of the image processing algorithm an own algorithm to evaluate the tube topology is proposed.\n",
    "In this report we present an image processing approach to quantify the topology of a PTCA catheter shaft. μCT images of a polymer tube are the basis for this analysis. In the remainder of the report the topology of two tube samples, plain and necked, are analysed. The deviation to the specification limits for both data sets is investigated. Based on the results of the algorithm, the capabilities to analyse the tubes are evaluated. \n",
    "\n",
    "The image processing approach consits of: (1) Filtering of the image to reduce the image modality noise. (2) Reduction of the image size to the region of interest. (3) Detection of the edges (Canny) and derive the outer diameter in x- and y-direction. (4) Removal of the information around the outer diameter and repeat the edge detection step from 3. to find the inner diameter. (5) Segment and retrive the outer and inner diameter in both, x- and y-direction, and plot results. Since this project is done in the image guided therapy lab of the Biomedical Engineering Program at Univerity of Bern, the ambition is to implement the methods and not just use existing packages, e.g. `pandas` or `OpenCV`."
   ]
  },
  {
   "cell_type": "markdown",
   "metadata": {},
   "source": [
    "## Preamble\n",
    "The libraries used for this file are imported here. There may be other packages needed for the functions, called from this file. The corresponding packages are imported in the respective function file `utils.py`."
   ]
  },
  {
   "cell_type": "code",
   "execution_count": 2,
   "metadata": {},
   "outputs": [],
   "source": [
    "import matplotlib.pyplot as plt\n",
    "import numpy as np\n",
    "import glob\n",
    "import time\n",
    "import utils as utils # Function created for this project"
   ]
  },
  {
   "cell_type": "markdown",
   "metadata": {},
   "source": [
    "# Control of the filenames and file-path\n",
    "The use of different tube sections, plain and necked tubes, the following code allows to switch between the samples. According the choosen sample the file path is set. "
   ]
  },
  {
   "cell_type": "code",
   "execution_count": 3,
   "metadata": {},
   "outputs": [],
   "source": [
    "# Data set\n",
    "data_set = sample = \"Y\" # \"X\" or \"Y\"\n",
    "\n",
    "# Set path according to the data set\n",
    "if data_set == \"X\":\n",
    "    path = \"img/X/rec/*.png\"\n",
    "\n",
    "if data_set == \"Y\":\n",
    "    path = \"img/Y/rec/*.png\"\n",
    "    #path = \"img/phantom/*.png\"\n",
    "\n",
    "# Open the file in which you want to store the files in\n",
    "file = open(\"res/txt/results_sample_{}.txt\".format(sample), \"w\") # \"a\": Open for writing. "
   ]
  },
  {
   "cell_type": "markdown",
   "metadata": {},
   "source": [
    "# General setting and definition of constants\n",
    "Prior to the image analysis some general information must be given, e.g. image resolution. In order to organize the data properly some folder structures are created. In the following each definition is shortely explained.\n",
    "\n",
    "## Check whether the needed directories are present.\n",
    "To store and organize the produced images, e.g. segmentation, a folder structure is created. With the following code the presence of the folders is checked and if the folder is not present the folder is created"
   ]
  },
  {
   "cell_type": "code",
   "execution_count": 4,
   "metadata": {},
   "outputs": [
    {
     "name": "stdout",
     "output_type": "stream",
     "text": [
      "The history saving thread hit an unexpected error (OperationalError('database or disk is full',)).History will not be written to the database.\n"
     ]
    }
   ],
   "source": [
    "utils.create_directories()"
   ]
  },
  {
   "cell_type": "markdown",
   "metadata": {},
   "source": [
    "## Start timer to evaluate performance \n",
    "For the evaluation of the methods it is a easy way to record the computation time. With the following, the timer is started. \n",
    "\n",
    "__Caution__: If the Jupyther Notebook is executed step by step, the computation time cannot be evaluated."
   ]
  },
  {
   "cell_type": "code",
   "execution_count": 5,
   "metadata": {},
   "outputs": [],
   "source": [
    "start_time = time.time()"
   ]
  },
  {
   "cell_type": "markdown",
   "metadata": {},
   "source": [
    "## Voxel resolution cubic, i.e. x, y and z\n",
    "The inner and inter image resolution can be expressed in a voxel. A voxel is the 3-D representation of the resolution."
   ]
  },
  {
   "cell_type": "code",
   "execution_count": 6,
   "metadata": {},
   "outputs": [],
   "source": [
    "resolution = 1.66 # in um"
   ]
  },
  {
   "cell_type": "markdown",
   "metadata": {},
   "source": [
    "## Padding in x and z direction\n",
    "The images might be visualy analyzed and it is important to not just see the border of the tube but rather analyse the close proximity of the tube as well. Hence a padding is introduced around the tube. The follwowing variable controls the padding size in pixel."
   ]
  },
  {
   "cell_type": "code",
   "execution_count": 7,
   "metadata": {},
   "outputs": [],
   "source": [
    "pad = 40 # in pixels"
   ]
  },
  {
   "cell_type": "markdown",
   "metadata": {},
   "source": [
    "# Initialize empty lists to store the results\n",
    "The outer and inner diameters are calulated for each image. The results are stored in lists for each image. The empty lists are initialized here."
   ]
  },
  {
   "cell_type": "code",
   "execution_count": 8,
   "metadata": {},
   "outputs": [],
   "source": [
    "z, t_x_0, t_x_180, t_y_90, t_y_270, t = ([] for i in range(6)) # Tube length and wall thickness\n",
    "d_o_x, d_o_y, d_o, r_o_x, r_o_y, r_o = ([] for i in range(6)) # Outer diameter and -radius\n",
    "d_i_x, d_i_y, d_i, r_i_x, r_i_y, r_i = ([] for i in range(6)) # Inner diameter and -radius"
   ]
  },
  {
   "cell_type": "markdown",
   "metadata": {},
   "source": [
    "# Read all images in the folder into array \"images\" depending on data_set\n",
    "The order of the images matters. Hence, the images are loaded in a sorted way and stored in an array called `images`. The sample size is calculated based on the array length and stored in the variable `samplesize`"
   ]
  },
  {
   "cell_type": "code",
   "execution_count": null,
   "metadata": {},
   "outputs": [],
   "source": [
    "images = sorted(glob.glob(path))\n",
    "samplesize = (np.shape(images))[0] # int with the amount of images in the path\n",
    "samplesize = 20"
   ]
  },
  {
   "cell_type": "markdown",
   "metadata": {},
   "source": [
    "# Loop over the whole sequence (all images) to get outer and inner diameter\n",
    "The following for-loop iterates over all images stored in the array `images`. The functions used are stored and documented in the file `utils.py`. The reason is that the functions should be callable from other programms too. The program consists of the following steps:\n",
    "1. Filtering of the image to reduce the image modality noise with `gaussian_filter()`.\n",
    "2. Reduction of the image size to the region of interest with `crop_to_roi()`. \n",
    "3. Detection of the edges (Canny) and derive the outer diameter in x- and y-direction with `find_diameter()` \n",
    "4. Removal of the information around the outer diameter with `mask_image_circ()` \n",
    "5. Repeat the edge detection step from 3. to find the inner diameter with `find_diameter()`. \n",
    "5. Segment and retrive the outer and inner diameter in both, x- and y-direction, and plot results with `plot_segmentation()`, `calculate_wallthickness()` and `export_results()`."
   ]
  },
  {
   "cell_type": "code",
   "execution_count": null,
   "metadata": {},
   "outputs": [
    {
     "name": "stdout",
     "output_type": "stream",
     "text": [
      "1 of 20 in 12.22 sec\n",
      "2 of 20 in 8.65 sec\n",
      "3 of 20 in 8.99 sec\n",
      "4 of 20 in 8.58 sec\n",
      "5 of 20 in 8.88 sec\n",
      "6 of 20 in 8.37 sec\n",
      "7 of 20 in 8.47 sec\n",
      "8 of 20 in 8.3 sec\n",
      "9 of 20 in 8.13 sec\n",
      "10 of 20 in 8.44 sec\n",
      "11 of 20 in 8.15 sec\n",
      "12 of 20 in 8.37 sec\n"
     ]
    }
   ],
   "source": [
    "for idx in range(samplesize):\n",
    "    ## Start iteration timer to evaluate performance\n",
    "    start_iteration_time = time.time()\n",
    "    \n",
    "    ## Read the original image and convert image into array\n",
    "    image = plt.imread(images[idx])\n",
    "    #image = plt.imread(\"img/Y/rec/trial1_rec2316.png\")\n",
    "    image = np.asarray(image)\n",
    "    \n",
    "    ## Print original image to a new file (path: /exp/original/*.pdf)\n",
    "    utils.print_original_image(image, \n",
    "                               sample=data_set, \n",
    "                               show=\"False\", \n",
    "                               index=idx)\n",
    "    \n",
    "    ## Preprocessing, i.e. filtering of the image (path: /exp/filt/gauss/*.pdf)\n",
    "    img_filtered = utils.gaussian_filter(image, \n",
    "                                         sigma=4, \n",
    "                                         sample=data_set, \n",
    "                                         show=\"False\", \n",
    "                                         index=idx)\n",
    "    \n",
    "    ## Crop image to region of interest (path: /exp/roi/*.pdf)\n",
    "    img_crop = utils.crop_to_roi(img_filtered, \n",
    "                                 sample=data_set, \n",
    "                                 padding=pad, \n",
    "                                 show=\"False\", \n",
    "                                 index=idx)\n",
    "        \n",
    "    ## calculate outer diameter and center point of the outer diameter\n",
    "    d_outer, center_outer = utils.find_diameter(img_crop, \n",
    "                                                padding=pad, \n",
    "                                                sample=data_set, \n",
    "                                                show=\"False\", \n",
    "                                                index=idx)\n",
    "    \n",
    "    ## Calculate outer diameter\n",
    "    d_o_x_direct = d_outer[0]*resolution\n",
    "    d_o_y_direct = d_outer[1]*resolution\n",
    "    d_o_mean = np.mean(d_outer)*resolution\n",
    "    r_o_mean = (np.mean(d_outer)/2)*resolution\n",
    "    \n",
    "    ## mask image to reduce information based on found outer diameter\n",
    "    d_outer_min = np.minimum(d_outer[0],d_outer[1])\n",
    "    masked_image = utils.mask_image(img_crop, \n",
    "                                         d_outer_min, \n",
    "                                         center_outer,\n",
    "                                         mode=\"ellipse\", # circle, ellipse or square\n",
    "                                         padding=pad, \n",
    "                                         show=\"False\", \n",
    "                                         sample=data_set, \n",
    "                                         index=idx)\n",
    "    \n",
    "    ## Crop image to region of interest (path: /exp/roi/*.pdf)\n",
    "    img_crop_masked = utils.crop_to_roi(masked_image, \n",
    "                                        sample=data_set,\n",
    "                                        sigma=7, # Check this!!!!!!!!\n",
    "                                        padding=pad, \n",
    "                                        show=\"False\", \n",
    "                                        index=idx)\n",
    "    \n",
    "    ## calculate inner diameter and center point of the tinner lumen\n",
    "    d_inner, center_inner = utils.find_diameter(img_crop_masked, \n",
    "                                                sample=data_set, \n",
    "                                                padding=pad,\n",
    "                                                sigma=7, # Check this!!!!!!\n",
    "                                                show=\"False\", \n",
    "                                                index=idx)\n",
    "    \n",
    "    ## Calculate outer diameter\n",
    "    d_i_x_direct = d_inner[0]*resolution\n",
    "    d_i_y_direct = d_inner[1]*resolution\n",
    "    d_i_mean = np.mean(d_inner)*resolution\n",
    "    r_i_mean = (np.mean(d_inner)/2)*resolution\n",
    "    \n",
    "    ## plot segmentation of the tube outer diameter and inner lumen on croped image\n",
    "    utils.plot_segmentation(img_crop, \n",
    "                            d_outer, \n",
    "                            center_outer, \n",
    "                            d_inner, \n",
    "                            center_inner, \n",
    "                            padding=pad, \n",
    "                            sample=data_set,\n",
    "                            show=\"False\",\n",
    "                            index=idx)\n",
    "    \n",
    "    ## calculate wall thickness in x and y direction\n",
    "    wallthicknesses = utils.calculate_wallthickness(d_outer, \n",
    "                                                  center_outer, \n",
    "                                                  d_inner, \n",
    "                                                  center_inner)\n",
    "    \n",
    "    ## Calculate wallthickness in SI-unit\n",
    "    t_mean = np.mean([wallthicknesses[4],wallthicknesses[5]])*resolution\n",
    "    wallthickness_x_0 = wallthicknesses[0]*resolution  \n",
    "    wallthickness_x_180 = wallthicknesses[1]*resolution \n",
    "    wallthickness_y_90 = wallthicknesses[2]*resolution \n",
    "    wallthickness_y_270 = wallthicknesses[3]*resolution\n",
    "    \n",
    "    ## Calculate position in z-direction (length)\n",
    "    pos_length = idx*resolution\n",
    "    \n",
    "    ## Export results into text files (.txt) that was opened with create_directories()\n",
    "    utils.export_results(pos_length, \n",
    "                         d_o_x_direct, \n",
    "                         d_o_y_direct, \n",
    "                         d_o_mean, \n",
    "                         r_o_mean, \n",
    "                         d_i_x_direct, \n",
    "                         d_i_y_direct, \n",
    "                         d_i_mean, \n",
    "                         r_i_mean, \n",
    "                         wallthickness_x_0, \n",
    "                         wallthickness_x_180, \n",
    "                         wallthickness_y_90, \n",
    "                         wallthickness_y_270,\n",
    "                         t_mean, \n",
    "                         sample=data_set, \n",
    "                         res=resolution, \n",
    "                         index=idx,\n",
    "                         file=file)\n",
    "\n",
    "    # Append results to list for each iteration & calculate values to distance in m\n",
    "    ## Tube lengt (z-axis)\n",
    "    z.append(pos_length)\n",
    "    \n",
    "    ## outer diameter resp. outer radius\n",
    "    d_o_x.append(d_o_x_direct)\n",
    "    d_o_y.append(d_o_y_direct)\n",
    "    d_o.append(d_o_mean)\n",
    "    r_o.append(r_o_mean)\n",
    "    \n",
    "    ## inner diameter resp. inner radius\n",
    "    d_i_x.append(d_i_x_direct)\n",
    "    d_i_y.append(d_i_y_direct)\n",
    "    d_i.append(d_i_mean)\n",
    "    r_i.append(r_i_mean)\n",
    "    \n",
    "    ## wall thickness\n",
    "    t.append(t_mean*resolution)\n",
    "    t_x_0.append(t_mean*resolution)\n",
    "    t_x_180.append(t_mean*resolution)\n",
    "    t_y_90.append(t_mean*resolution)\n",
    "    t_y_270.append(t_mean*resolution)\n",
    "    \n",
    "    ## Print the index of the loop as indication for the progress (incl. elapsed time)\n",
    "    print(\"{} of {} in {} sec\".format((idx+1), samplesize, round(time.time() - start_iteration_time,2)))\n",
    "\n",
    "## Stop timer for perfomance evaluation\n",
    "end_time = time.time()\n",
    "\n",
    "## Close file\n",
    "file.close()"
   ]
  },
  {
   "cell_type": "markdown",
   "metadata": {},
   "source": [
    "## Overall timeout computation to evaluate performance\n",
    "Calculate the elapsed time and store the value in the variable `elapsed_time`. Print the variable to the console.\n",
    "\n",
    "__Caution__: Interpret this value with caution. E.g. if the Jupyther Notebook or JupytherLab is executed step by step, the computation time cannot be evaluated."
   ]
  },
  {
   "cell_type": "code",
   "execution_count": null,
   "metadata": {},
   "outputs": [],
   "source": [
    "elapsed_time = round(end_time - start_time,2)\n",
    "print(elapsed_time)"
   ]
  },
  {
   "cell_type": "markdown",
   "metadata": {},
   "source": [
    "## Print summary\n",
    "In order to have a brief overview over the main results. The method `print_summary()` is called to show them in the console."
   ]
  },
  {
   "cell_type": "code",
   "execution_count": null,
   "metadata": {},
   "outputs": [],
   "source": [
    "utils.print_summary(z, \n",
    "                    d_o_x, \n",
    "                    d_o_y,\n",
    "                    d_o, \n",
    "                    r_o, \n",
    "                    d_i_x, \n",
    "                    d_i_y, \n",
    "                    d_i, \n",
    "                    r_i, \n",
    "                    t, \n",
    "                    time_c=elapsed_time, \n",
    "                    sample=data_set, \n",
    "                    res=resolution, \n",
    "                    index=idx)"
   ]
  },
  {
   "cell_type": "markdown",
   "metadata": {},
   "source": [
    "# Post processing, i.e. visualisation of results\n",
    "The aggregated results in the summary may distort the conclusion. Hence, detail results are plotted and different visualisations of the result should help to interpret the results efficiently."
   ]
  },
  {
   "cell_type": "markdown",
   "metadata": {},
   "source": [
    "## Plot outer diameter of the tube x & y direction\n",
    "The outer diameter in x- and y-direction are plotted. The further appart they are the more elliptic the found shape of the tube. If the two values are equal a perfectly round tube was found. Consider that the methods are never perfect. A presumably perfect round tube does not necessarly mean that the real tube is perfectely round. You need to check the segementation image as well to draw further conclusions."
   ]
  },
  {
   "cell_type": "code",
   "execution_count": null,
   "metadata": {},
   "outputs": [],
   "source": [
    "fig1, ax1 = plt.subplots()\n",
    "ax1.plot(z, d_o_x, color=\"royalblue\", label = \"outer diameter x\")\n",
    "ax1.plot(z, d_o_y, color=\"dodgerblue\", label = \"outer diameter y\")\n",
    "ax1.legend()\n",
    "ax1.set_title(\"Outer diameter of a polyamide tube (Sample: {})\".format(sample))\n",
    "ax1.set_xlabel(\"tube length in um\")\n",
    "ax1.set_ylabel(\"diameter in um\")   \n",
    "fig1.savefig('res/diag/outer_diameter_{}.pdf'.format(sample))"
   ]
  },
  {
   "cell_type": "markdown",
   "metadata": {},
   "source": [
    "## Plot inner diameter of the tube x & y direction\n",
    "The outer diameter in x- and y-direction are plotted. The further appart they are the more elliptic the found shape of the tube. If the two values are equal a perfectly round tube was found. Consider that the methods are never perfect. A presumably perfect round tube does not necessarly mean that the real tube is perfectely round. You need to check the segementation image as well to draw further conclusions."
   ]
  },
  {
   "cell_type": "code",
   "execution_count": null,
   "metadata": {},
   "outputs": [],
   "source": [
    "fig2, ax2 = plt.subplots()\n",
    "ax2.plot(z, d_i_x, color=\"indianred\", label = \"inner diameter x\")\n",
    "ax2.plot(z, d_i_y, color=\"darkred\", label = \"inner diameter y\")\n",
    "ax2.legend()\n",
    "ax2.set_title(\"Inner diameter of a polyamide tube (Sample: {})\".format(sample))\n",
    "ax2.set_xlabel(\"tube length in um\")\n",
    "ax2.set_ylabel(\"diameter in um\")\n",
    "fig2.savefig('res/diag/inner_diameter_{}.pdf'.format(sample))"
   ]
  },
  {
   "cell_type": "markdown",
   "metadata": {},
   "source": [
    "## Plot outer & inner radius axissymmetric\n",
    "The mean outer and inner radius of the tube is plotted and the tube is approximated as circular. Hence the x-axis of the plot is the rotational axis of the tube."
   ]
  },
  {
   "cell_type": "code",
   "execution_count": null,
   "metadata": {},
   "outputs": [],
   "source": [
    "fig3, ax3 = plt.subplots()\n",
    "ax3.plot(z, r_o, color=\"blue\", label = \"mean outer radius\")\n",
    "ax3.plot(z, r_i, color=\"red\", label = \"mean inner radius\")\n",
    "ax3.legend()\n",
    "ax3.set_ylim([0,400])\n",
    "ax3.set_title(\"Inner lumen and outer radii of a polyamide tube (Sample: {})\".format(sample))\n",
    "ax3.set_xlabel(\"tube length in um\")\n",
    "ax3.set_ylabel(\"radius in um\")\n",
    "fig3.savefig('res/diag/radius_mean_axissymmetric_{}.pdf'.format(sample))"
   ]
  },
  {
   "cell_type": "markdown",
   "metadata": {},
   "source": [
    "## Plot outer & inner radius of a tube section\n",
    "The mean outer and inner radius of the tube is plotted on a limited length `set_xlim[]`. The tube is approximated as circular and the x-axis of the plot is the rotational axis of the tube. "
   ]
  },
  {
   "cell_type": "code",
   "execution_count": null,
   "metadata": {},
   "outputs": [],
   "source": [
    "fig4, ax4 = plt.subplots()\n",
    "ax4.plot(z, r_o, color=\"blue\", label = \"mean outer radius\")\n",
    "ax4.plot(z, r_i, color=\"red\", label = \"mean inner radius\")\n",
    "ax4.legend()\n",
    "ax4.set_ylim([0,400])\n",
    "ax4.set_xlim([200,400])\n",
    "ax4.set_title(\"Inner lumen and outer radii of a polyamide tube section (Sample: {})\".format(sample))\n",
    "ax4.set_xlabel(\"tube length in um\")\n",
    "ax4.set_ylabel(\"radius in um\")\n",
    "fig4.savefig('res/diag/radius_mean_section_axissymmetric_{}.pdf'.format(sample))"
   ]
  },
  {
   "cell_type": "markdown",
   "metadata": {},
   "source": [
    "## Plot outer & inner radius mean of a tube section\n",
    "The mean outer and inner radius of the tube is plotted on a limited length `set_xlim[]`. The radii are zoomed in to observe the variation. The tube is approximated as circular and the x-axis of the plot is the rotational axis of the tube. "
   ]
  },
  {
   "cell_type": "code",
   "execution_count": null,
   "metadata": {},
   "outputs": [],
   "source": [
    "fig5, ax5 = plt.subplots()\n",
    "ax5.plot(z, r_o, color=\"blue\", label = \"mean outer radius\")\n",
    "ax5.plot(z, r_i, color=\"red\", label = \"mean inner radius\")\n",
    "ax5.legend()\n",
    "ax5.set_xlim([200,400])\n",
    "ax5.set_title(\"Inner lumen and outer radii of a polyamide tube section (Sample: {})\".format(sample))\n",
    "ax5.set_xlabel(\"tube length in um\")\n",
    "ax5.set_ylabel(\"radius in um\")\n",
    "fig5.savefig('res/diag/radius_mean_section_zoom_axissymmetric_{}.pdf'.format(sample))"
   ]
  },
  {
   "cell_type": "markdown",
   "metadata": {},
   "source": [
    "## Plot wall thickness of the tube\n",
    "The mean wallthickness of the tube is plotted over the whole lenght of the tube. The tube is approximated as circular and the x-axis of the plot is the rotational axis of the tube. "
   ]
  },
  {
   "cell_type": "code",
   "execution_count": null,
   "metadata": {},
   "outputs": [],
   "source": [
    "fig6, ax6 = plt.subplots()\n",
    "ax6.plot(z, t, color=\"k\", label = \"wallthickness\")\n",
    "ax6.legend()\n",
    "ax6.set_title(\"outer diameter variation of polyamide tube (Sample: {})\".format(sample))\n",
    "ax6.set_xlabel(\"tube length in um\")\n",
    "ax6.set_ylabel(\"wallthickness in um\")\n",
    "fig6.savefig('res/diag/wallthickness_tube_{}.pdf'.format(sample))"
   ]
  },
  {
   "cell_type": "code",
   "execution_count": null,
   "metadata": {},
   "outputs": [],
   "source": []
  }
 ],
 "metadata": {
  "kernelspec": {
   "display_name": "Python 3",
   "language": "python",
   "name": "python3"
  },
  "language_info": {
   "codemirror_mode": {
    "name": "ipython",
    "version": 3
   },
   "file_extension": ".py",
   "mimetype": "text/x-python",
   "name": "python",
   "nbconvert_exporter": "python",
   "pygments_lexer": "ipython3",
   "version": "3.6.4"
  }
 },
 "nbformat": 4,
 "nbformat_minor": 2
}
